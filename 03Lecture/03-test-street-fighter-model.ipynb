{
 "cells": [
  {
   "cell_type": "code",
   "execution_count": 1,
   "id": "3c7ff23b-093a-419e-9c63-4299ccbfc469",
   "metadata": {},
   "outputs": [],
   "source": [
    "# to slow down the actions\n",
    "import time\n",
    "# for the environment\n",
    "import retro\n",
    "from gym import Env # to wrap the environment\n",
    "from gym.spaces import MultiBinary, Box # \n",
    "import numpy as np # to calculate the delta between the frames\n",
    "import cv2 # for grayscaling\n",
    "# the algorithm\n",
    "from stable_baselines3 import PPO"
   ]
  },
  {
   "cell_type": "code",
   "execution_count": 2,
   "id": "591050bd-bf2f-4d39-b497-487a81192a1b",
   "metadata": {},
   "outputs": [],
   "source": [
    "# Creating custom environment that will carry out all the steps\n",
    "# we pass our pass environment\n",
    "\n",
    "class StreetFighter(Env): \n",
    "    def __init__(self):\n",
    "        super().__init__()\n",
    "        # Specify action space and observation space \n",
    "        # resizing and making gray scale\n",
    "        self.observation_space = Box(low=0, high=255, shape=(84, 84, 1), dtype=np.uint8) \n",
    "        self.action_space = MultiBinary(12)\n",
    "        # Startup and instance of the game \n",
    "        # additional parameter to filter only valid actions\n",
    "        self.game = retro.make(game='StreetFighterIISpecialChampionEdition-Genesis', use_restricted_actions=retro.Actions.FILTERED)\n",
    "    \n",
    "    def reset(self):\n",
    "        # Return the first frame \n",
    "        obs = self.game.reset()\n",
    "        obs = self.preprocess(obs) \n",
    "        self.previous_frame = obs # want to also keep track of the previous frame to calculate a delta between the frames\n",
    "        \n",
    "        # Create a attribute to hold the score delta \n",
    "        self.score = 0 \n",
    "        return obs\n",
    "    \n",
    "    def preprocess(self, observation): \n",
    "        # Grayscaling \n",
    "        gray = cv2.cvtColor(observation, cv2.COLOR_BGR2GRAY)\n",
    "        # Resize \n",
    "        resize = cv2.resize(gray, (84,84), interpolation=cv2.INTER_CUBIC)\n",
    "        # Add the channels value\n",
    "        channels = np.reshape(resize, (84,84,1))\n",
    "        return channels \n",
    "    \n",
    "    def step(self, action): \n",
    "        # Take a step \n",
    "        obs, reward, done, info = self.game.step(action)\n",
    "        obs = self.preprocess(obs) \n",
    "        \n",
    "        # Frame delta - use this to train our agent\n",
    "        frame_delta = obs - self.previous_frame\n",
    "        self.previous_frame = obs \n",
    "        \n",
    "        # Reshape the reward function\n",
    "        reward = info['score'] - self.score \n",
    "        self.score = info['score'] \n",
    "        \n",
    "        return frame_delta, reward, done, info\n",
    "    \n",
    "    def render(self, *args, **kwargs):\n",
    "        self.game.render()\n",
    "        \n",
    "    def close(self):\n",
    "        self.game.close()"
   ]
  },
  {
   "cell_type": "code",
   "execution_count": 3,
   "id": "fe6cd075-171c-4208-8351-bf949bf1e551",
   "metadata": {},
   "outputs": [],
   "source": [
    "# test model\n",
    "\n",
    "def test_model_and_get_info(model):\n",
    "    env = StreetFighter()\n",
    "    \n",
    "    # Reset game to starting state\n",
    "    obs = env.reset()\n",
    "    # Set flag to flase\n",
    "    done = False\n",
    "    for game in range(1): \n",
    "        while not done: \n",
    "            if done: \n",
    "                obs = env.reset()\n",
    "            env.render()\n",
    "            action = model.predict(obs)[0] # replace with model prediction\n",
    "            obs, reward, done, info = env.step(action)\n",
    "            time.sleep(0.01)\n",
    "            if reward > 0:\n",
    "                print(reward)\n",
    "\n",
    "    return info"
   ]
  },
  {
   "cell_type": "code",
   "execution_count": 4,
   "id": "3b8a5c25-f03a-4ecb-b0aa-6985005694bd",
   "metadata": {},
   "outputs": [
    {
     "name": "stderr",
     "output_type": "stream",
     "text": [
      "2024-06-08 11:56:54.381 python[12840:36790771] Warning: Expected min height of view: (<NSPopoverTouchBarItemButton: 0x7fcc66698540>) to be less than or equal to 30 but got a height of 32.000000. This error will be logged once per view in violation.\n",
      "2024-06-08 11:56:54.383 python[12840:36790771] Warning: Expected min height of view: (<NSButton: 0x7fcc80f40e20>) to be less than or equal to 30 but got a height of 32.000000. This error will be logged once per view in violation.\n",
      "2024-06-08 11:56:54.386 python[12840:36790771] Warning: Expected min height of view: (<NSPopoverTouchBarItemButton: 0x7fcc80f51090>) to be less than or equal to 30 but got a height of 32.000000. This error will be logged once per view in violation.\n",
      "2024-06-08 11:56:54.389 python[12840:36790771] Warning: Expected min height of view: (<NSPopoverTouchBarItemButton: 0x7fcc6657a960>) to be less than or equal to 30 but got a height of 32.000000. This error will be logged once per view in violation.\n"
     ]
    },
    {
     "name": "stdout",
     "output_type": "stream",
     "text": [
      "500\n",
      "300\n",
      "300\n",
      "400\n",
      "100\n",
      "100\n",
      "1000\n",
      "1000\n",
      "500\n",
      "400\n"
     ]
    }
   ],
   "source": [
    "# load model\n",
    "model = PPO.load(f\"training/models/PPO_10000_SF\")\n",
    "\n",
    "info = test_model_and_get_info(model)"
   ]
  },
  {
   "cell_type": "code",
   "execution_count": 5,
   "id": "a8dffc5e-ad8e-4823-a576-1e41c3a49dc8",
   "metadata": {},
   "outputs": [
    {
     "data": {
      "text/plain": [
       "{'continuetimer': 10,\n",
       " 'enemy_matches_won': 2,\n",
       " 'enemy_health': 0,\n",
       " 'health': 0,\n",
       " 'matches_won': 0,\n",
       " 'score': 4600}"
      ]
     },
     "execution_count": 5,
     "metadata": {},
     "output_type": "execute_result"
    }
   ],
   "source": [
    "# summary of the match\n",
    "info"
   ]
  },
  {
   "cell_type": "code",
   "execution_count": 6,
   "id": "ac9a764e-94d9-409a-9598-d765c07e1713",
   "metadata": {},
   "outputs": [],
   "source": [
    "# track summary\n",
    "\n",
    "summary = []\n",
    "info.update({'experiment name': '10000 timesteps'}) # add an experiment name\n",
    "summary.append(info)"
   ]
  },
  {
   "cell_type": "code",
   "execution_count": 13,
   "id": "e3b45b20-8708-41c3-ada0-7c17c6dd543a",
   "metadata": {},
   "outputs": [
    {
     "name": "stderr",
     "output_type": "stream",
     "text": [
      "2024-06-08 12:16:08.789 python[12840:36790771] Warning: Expected min height of view: (<NSPopoverTouchBarItemButton: 0x7fcc666f68b0>) to be less than or equal to 30 but got a height of 32.000000. This error will be logged once per view in violation.\n",
      "2024-06-08 12:16:08.790 python[12840:36790771] Warning: Expected min height of view: (<NSButton: 0x7fcc83512ae0>) to be less than or equal to 30 but got a height of 32.000000. This error will be logged once per view in violation.\n",
      "2024-06-08 12:16:08.793 python[12840:36790771] Warning: Expected min height of view: (<NSPopoverTouchBarItemButton: 0x7fcc83512340>) to be less than or equal to 30 but got a height of 32.000000. This error will be logged once per view in violation.\n",
      "2024-06-08 12:16:08.795 python[12840:36790771] Warning: Expected min height of view: (<NSPopoverTouchBarItemButton: 0x7fcc8351de10>) to be less than or equal to 30 but got a height of 32.000000. This error will be logged once per view in violation.\n"
     ]
    },
    {
     "name": "stdout",
     "output_type": "stream",
     "text": [
      "500\n",
      "1000\n",
      "1000\n",
      "1000\n",
      "500\n",
      "100\n",
      "100\n",
      "100\n",
      "100\n",
      "100\n",
      "100\n",
      "100\n",
      "100\n",
      "100\n",
      "100\n",
      "100\n",
      "100\n",
      "100\n",
      "100\n",
      "100\n",
      "100\n",
      "100\n",
      "100\n",
      "1000\n",
      "10000\n",
      "400\n",
      "1000\n",
      "300\n",
      "400\n",
      "1000\n",
      "1000\n",
      "300\n",
      "1500\n",
      "100\n",
      "100\n",
      "100\n",
      "100\n",
      "100\n",
      "100\n",
      "100\n",
      "100\n",
      "100\n",
      "1000\n",
      "1000\n",
      "1000\n",
      "1000\n",
      "1000\n",
      "500\n",
      "500\n",
      "300\n",
      "300\n",
      "500\n",
      "1000\n",
      "500\n",
      "300\n"
     ]
    }
   ],
   "source": [
    "# load and test another model\n",
    "model = PPO.load(f\"training/models/opt/PPO_1000_SF_4\")\n",
    "info = test_model_and_get_info(model)"
   ]
  },
  {
   "cell_type": "code",
   "execution_count": 14,
   "id": "0389f62f-62d4-46a2-9895-50d2fdf2cb23",
   "metadata": {},
   "outputs": [
    {
     "data": {
      "text/plain": [
       "{'continuetimer': 10,\n",
       " 'enemy_matches_won': 2,\n",
       " 'enemy_health': 0,\n",
       " 'health': 0,\n",
       " 'matches_won': 0,\n",
       " 'score': 32500}"
      ]
     },
     "execution_count": 14,
     "metadata": {},
     "output_type": "execute_result"
    }
   ],
   "source": [
    "info"
   ]
  },
  {
   "cell_type": "code",
   "execution_count": 15,
   "id": "07b4d570-1fa6-41b6-a7b2-1f8332379a45",
   "metadata": {},
   "outputs": [],
   "source": [
    "info.update({'experiment name': '1000 timesteps tuned'}) # add an experiment name\n",
    "summary.append(info)"
   ]
  },
  {
   "cell_type": "code",
   "execution_count": 16,
   "id": "74b4177b-66d0-49d0-8263-81ca3ffbe9bd",
   "metadata": {},
   "outputs": [
    {
     "data": {
      "text/html": [
       "<div>\n",
       "<style scoped>\n",
       "    .dataframe tbody tr th:only-of-type {\n",
       "        vertical-align: middle;\n",
       "    }\n",
       "\n",
       "    .dataframe tbody tr th {\n",
       "        vertical-align: top;\n",
       "    }\n",
       "\n",
       "    .dataframe thead th {\n",
       "        text-align: right;\n",
       "    }\n",
       "</style>\n",
       "<table border=\"1\" class=\"dataframe\">\n",
       "  <thead>\n",
       "    <tr style=\"text-align: right;\">\n",
       "      <th></th>\n",
       "      <th>experiment name</th>\n",
       "      <th>matches_won</th>\n",
       "      <th>score</th>\n",
       "      <th>enemy_matches_won</th>\n",
       "    </tr>\n",
       "  </thead>\n",
       "  <tbody>\n",
       "    <tr>\n",
       "      <th>0</th>\n",
       "      <td>10000 timesteps</td>\n",
       "      <td>0</td>\n",
       "      <td>4600</td>\n",
       "      <td>2</td>\n",
       "    </tr>\n",
       "    <tr>\n",
       "      <th>1</th>\n",
       "      <td>1000 timesteps</td>\n",
       "      <td>0</td>\n",
       "      <td>5900</td>\n",
       "      <td>2</td>\n",
       "    </tr>\n",
       "    <tr>\n",
       "      <th>2</th>\n",
       "      <td>1000 timesteps</td>\n",
       "      <td>0</td>\n",
       "      <td>5900</td>\n",
       "      <td>2</td>\n",
       "    </tr>\n",
       "    <tr>\n",
       "      <th>3</th>\n",
       "      <td>1000 timesteps tuned</td>\n",
       "      <td>0</td>\n",
       "      <td>32500</td>\n",
       "      <td>2</td>\n",
       "    </tr>\n",
       "  </tbody>\n",
       "</table>\n",
       "</div>"
      ],
      "text/plain": [
       "        experiment name  matches_won  score  enemy_matches_won\n",
       "0       10000 timesteps            0   4600                  2\n",
       "1        1000 timesteps            0   5900                  2\n",
       "2        1000 timesteps            0   5900                  2\n",
       "3  1000 timesteps tuned            0  32500                  2"
      ]
     },
     "execution_count": 16,
     "metadata": {},
     "output_type": "execute_result"
    }
   ],
   "source": [
    "# aggregrate results\n",
    "import pandas as pd\n",
    "\n",
    "pd.DataFrame(summary)[['experiment name', 'matches_won', 'score', 'enemy_matches_won']]"
   ]
  },
  {
   "cell_type": "code",
   "execution_count": null,
   "id": "6a2c7cd5-cc2b-40d1-8da9-c066a4417bec",
   "metadata": {},
   "outputs": [],
   "source": []
  }
 ],
 "metadata": {
  "kernelspec": {
   "display_name": "Python 3 (ipykernel)",
   "language": "python",
   "name": "python3"
  },
  "language_info": {
   "codemirror_mode": {
    "name": "ipython",
    "version": 3
   },
   "file_extension": ".py",
   "mimetype": "text/x-python",
   "name": "python",
   "nbconvert_exporter": "python",
   "pygments_lexer": "ipython3",
   "version": "3.8.19"
  }
 },
 "nbformat": 4,
 "nbformat_minor": 5
}
