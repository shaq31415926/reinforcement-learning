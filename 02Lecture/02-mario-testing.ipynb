{
 "cells": [
  {
   "cell_type": "code",
   "execution_count": 1,
   "id": "8175876d-91c9-415b-bf5c-120f560d584e",
   "metadata": {},
   "outputs": [
    {
     "name": "stdout",
     "output_type": "stream",
     "text": [
      "Python 3.8.19\n"
     ]
    }
   ],
   "source": [
    "! python3 --version"
   ]
  },
  {
   "cell_type": "code",
   "execution_count": 2,
   "id": "67279ed9-5dcd-4933-8470-fe46bad372a8",
   "metadata": {},
   "outputs": [],
   "source": [
    "import gym_super_mario_bros\n",
    "from nes_py.wrappers import JoypadSpace\n",
    "from gym_super_mario_bros.actions import SIMPLE_MOVEMENT\n",
    "# Import Frame Stacker Wrapper and GrayScaling Wrapper\n",
    "from gym.wrappers import GrayScaleObservation # less data to process \n",
    "from stable_baselines3.common.vec_env import DummyVecEnv # transform the model to pass\n",
    "from stable_baselines3 import PPO\n",
    "# Import Matplotlib to show the impact of frame stacking\n",
    "from matplotlib import pyplot as plt"
   ]
  },
  {
   "cell_type": "code",
   "execution_count": 3,
   "id": "1f1e935d-2ca7-49c3-9cd8-79108d33b2af",
   "metadata": {},
   "outputs": [],
   "source": [
    "# load model\n",
    "\n",
    "model = PPO.load(\"training/models/PPO_10k_Mario\")\n"
   ]
  },
  {
   "cell_type": "code",
   "execution_count": 4,
   "id": "6bed40c4-e7b5-4f7c-9ad6-afc4b4f5e8d6",
   "metadata": {},
   "outputs": [],
   "source": [
    "# 1. Create the base environment\n",
    "env = gym_super_mario_bros.make('SuperMarioBros-v1')\n",
    "# 2. Simplify the controls - otherwise we have 256 different options\n",
    "env = JoypadSpace(env, SIMPLE_MOVEMENT)\n",
    "# 3. Grayscale\n",
    "env = GrayScaleObservation(env, keep_dim=True)\n",
    "# 4. Wrap inside the Dummy Environment\n",
    "env = DummyVecEnv([lambda: env])"
   ]
  },
  {
   "cell_type": "code",
   "execution_count": null,
   "id": "db078054-e7ca-4851-bea9-ed2a2e4fe6b1",
   "metadata": {},
   "outputs": [
    {
     "name": "stderr",
     "output_type": "stream",
     "text": [
      "2024-06-02 15:55:20.520 python[65386:36092338] Warning: Expected min height of view: (<NSPopoverTouchBarItemButton: 0x7fea5ff93660>) to be less than or equal to 30 but got a height of 32.000000. This error will be logged once per view in violation.\n",
      "2024-06-02 15:55:20.521 python[65386:36092338] Warning: Expected min height of view: (<NSButton: 0x7fea6100d3d0>) to be less than or equal to 30 but got a height of 32.000000. This error will be logged once per view in violation.\n",
      "2024-06-02 15:55:20.525 python[65386:36092338] Warning: Expected min height of view: (<NSPopoverTouchBarItemButton: 0x7feaa6ba2430>) to be less than or equal to 30 but got a height of 32.000000. This error will be logged once per view in violation.\n",
      "2024-06-02 15:55:20.527 python[65386:36092338] Warning: Expected min height of view: (<NSPopoverTouchBarItemButton: 0x7feaa6ba6300>) to be less than or equal to 30 but got a height of 32.000000. This error will be logged once per view in violation.\n",
      "/opt/miniconda3/envs/mario2/lib/python3.8/site-packages/gym_super_mario_bros/smb_env.py:148: RuntimeWarning: overflow encountered in scalar subtract\n",
      "  return (self.ram[0x86] - self.ram[0x071c]) % 256\n"
     ]
    }
   ],
   "source": [
    "# TEST THE MODEL\n",
    "\n",
    "# Start the game \n",
    "state = env.reset()\n",
    "# Loop through the game\n",
    "while True: \n",
    "    \n",
    "    action, _ = model.predict(state)\n",
    "    state, reward, done, info = env.step(action)\n",
    "    env.render()\n",
    "\n",
    "# reward how far it can go the right"
   ]
  },
  {
   "cell_type": "code",
   "execution_count": null,
   "id": "1eaec52d-e719-4aa8-a31d-6f4a197e6b30",
   "metadata": {},
   "outputs": [],
   "source": [
    "env.close()"
   ]
  },
  {
   "cell_type": "code",
   "execution_count": null,
   "id": "193a38c5-a3f9-4452-ab71-6344b48a7a80",
   "metadata": {},
   "outputs": [],
   "source": []
  }
 ],
 "metadata": {
  "kernelspec": {
   "display_name": "Python 3 (ipykernel)",
   "language": "python",
   "name": "python3"
  },
  "language_info": {
   "codemirror_mode": {
    "name": "ipython",
    "version": 3
   },
   "file_extension": ".py",
   "mimetype": "text/x-python",
   "name": "python",
   "nbconvert_exporter": "python",
   "pygments_lexer": "ipython3",
   "version": "3.8.19"
  }
 },
 "nbformat": 4,
 "nbformat_minor": 5
}
