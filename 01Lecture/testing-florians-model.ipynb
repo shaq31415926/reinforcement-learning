{
 "cells": [
  {
   "cell_type": "code",
   "execution_count": 1,
   "id": "a77f2956-4b14-4f44-bed7-c220f35af713",
   "metadata": {},
   "outputs": [],
   "source": [
    "import gym\n",
    "from stable_baselines3 import PPO "
   ]
  },
  {
   "cell_type": "code",
   "execution_count": 8,
   "id": "57d9d1ca-53a7-4bbd-94a1-3b4da42d1144",
   "metadata": {},
   "outputs": [],
   "source": [
    "env = gym.make(\"CartPole-v1\", render_mode=\"human\")"
   ]
  },
  {
   "cell_type": "code",
   "execution_count": 9,
   "id": "ef9a1838-162d-4287-ad78-f583e0f65b7d",
   "metadata": {},
   "outputs": [
    {
     "name": "stdout",
     "output_type": "stream",
     "text": [
      "Wrapping the env with a `Monitor` wrapper\n",
      "Wrapping the env in a DummyVecEnv.\n"
     ]
    },
    {
     "name": "stderr",
     "output_type": "stream",
     "text": [
      "/opt/miniconda3/envs/rl/lib/python3.11/site-packages/stable_baselines3/common/vec_env/patch_gym.py:49: UserWarning: You provided an OpenAI Gym environment. We strongly recommend transitioning to Gymnasium environments. Stable-Baselines3 is automatically wrapping your environments in a compatibility layer, which could potentially cause issues.\n",
      "  warnings.warn(\n"
     ]
    }
   ],
   "source": [
    "model_path = \"training/models/pre-trained/cartpole\"\n",
    "\n",
    "model = PPO.load(model_path, env=env)"
   ]
  },
  {
   "cell_type": "code",
   "execution_count": null,
   "id": "7e67315c-1eba-4306-afe5-2727b5491343",
   "metadata": {},
   "outputs": [
    {
     "name": "stdout",
     "output_type": "stream",
     "text": [
      "1\n"
     ]
    }
   ],
   "source": [
    "episodes = 5 # loop through environment 5 times\n",
    "\n",
    "for episode in range(1, episodes+1):\n",
    "    print(episode)\n",
    "    obs, _ = env.reset() # reset the env\n",
    "    done = False\n",
    "    score = 0\n",
    "\n",
    "    while not done:\n",
    "        env.render()\n",
    "        # action = env.action_space.sample() \n",
    "        # the agent will now predict the best type of action\n",
    "        # the agent will determine best type of environment\n",
    "        action, _state = model.predict(obs) # no longer taking random steps - using THE MODEL\n",
    "        obs, reward, done, _, info = env.step(action) \n",
    "        score += reward\n",
    "    print(f\"Episode: {episode}\")\n",
    "    print(f\"Score: {score}\")"
   ]
  },
  {
   "cell_type": "code",
   "execution_count": null,
   "id": "60839073-1a32-487b-a153-796d4c4e5a50",
   "metadata": {},
   "outputs": [],
   "source": []
  }
 ],
 "metadata": {
  "kernelspec": {
   "display_name": "Python 3 (ipykernel)",
   "language": "python",
   "name": "python3"
  },
  "language_info": {
   "codemirror_mode": {
    "name": "ipython",
    "version": 3
   },
   "file_extension": ".py",
   "mimetype": "text/x-python",
   "name": "python",
   "nbconvert_exporter": "python",
   "pygments_lexer": "ipython3",
   "version": "3.11.9"
  }
 },
 "nbformat": 4,
 "nbformat_minor": 5
}
