{
 "cells": [
  {
   "cell_type": "markdown",
   "id": "70159f8a-1567-4424-be71-a54746834b93",
   "metadata": {},
   "source": [
    "# Hi Class"
   ]
  },
  {
   "cell_type": "code",
   "execution_count": 1,
   "id": "46a12ac0-ad92-4317-8095-c75942e0fbab",
   "metadata": {},
   "outputs": [
    {
     "name": "stdout",
     "output_type": "stream",
     "text": [
      "hello world!\n"
     ]
    }
   ],
   "source": [
    "print(\"hello world!\")"
   ]
  },
  {
   "cell_type": "code",
   "execution_count": 2,
   "id": "154e1efa-29ee-4e53-95eb-bda906a4787f",
   "metadata": {},
   "outputs": [
    {
     "name": "stdout",
     "output_type": "stream",
     "text": [
      "0\n",
      "1\n",
      "2\n",
      "3\n",
      "4\n",
      "5\n",
      "6\n",
      "7\n",
      "8\n",
      "9\n"
     ]
    }
   ],
   "source": [
    "for i in range(10):\n",
    "    print(i)"
   ]
  },
  {
   "cell_type": "code",
   "execution_count": 3,
   "id": "4f1c2015-4d49-48c8-8b07-40e672d4c2d3",
   "metadata": {},
   "outputs": [],
   "source": [
    "var = \"Sarah\""
   ]
  },
  {
   "cell_type": "code",
   "execution_count": 4,
   "id": "0a519c5e-1dcb-4032-8f5b-2ecc089d8e08",
   "metadata": {},
   "outputs": [
    {
     "data": {
      "text/plain": [
       "'Sarah'"
      ]
     },
     "execution_count": 4,
     "metadata": {},
     "output_type": "execute_result"
    }
   ],
   "source": [
    "var"
   ]
  },
  {
   "cell_type": "code",
   "execution_count": 5,
   "id": "b65133dc-5e6e-4f3a-84c0-df285510b429",
   "metadata": {},
   "outputs": [
    {
     "data": {
      "text/plain": [
       "'Hi! My name is Sarah'"
      ]
     },
     "execution_count": 5,
     "metadata": {},
     "output_type": "execute_result"
    }
   ],
   "source": [
    "f\"Hi! My name is {var}\""
   ]
  },
  {
   "cell_type": "code",
   "execution_count": null,
   "id": "847e417c-1637-407c-a49b-3027eb0ef6ce",
   "metadata": {},
   "outputs": [],
   "source": []
  }
 ],
 "metadata": {
  "kernelspec": {
   "display_name": "Python 3 (ipykernel)",
   "language": "python",
   "name": "python3"
  },
  "language_info": {
   "codemirror_mode": {
    "name": "ipython",
    "version": 3
   },
   "file_extension": ".py",
   "mimetype": "text/x-python",
   "name": "python",
   "nbconvert_exporter": "python",
   "pygments_lexer": "ipython3",
   "version": "3.12.2"
  }
 },
 "nbformat": 4,
 "nbformat_minor": 5
}
